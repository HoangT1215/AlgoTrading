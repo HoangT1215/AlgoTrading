{
 "cells": [
  {
   "cell_type": "code",
   "execution_count": 7,
   "metadata": {
    "collapsed": false
   },
   "outputs": [
    {
     "name": "stdout",
     "output_type": "stream",
     "text": [
      "{\"_type\": \"SpellCheck\", \"flaggedTokens\": []}\n",
      "x equals whyy square plus one\n"
     ]
    }
   ],
   "source": [
    "import httplib, urllib, base64\n",
    "import json\n",
    "\n",
    "headers = {\n",
    "    # Request headers\n",
    "    'Ocp-Apim-Subscription-Key': '4c6300c877134fc9b40a638d1a7f0339',\n",
    "}\n",
    "input = \"x equals whyy square plus one\"\n",
    "params = urllib.urlencode({\n",
    "    # Request parameters\n",
    "    'text': input,\n",
    "    'mode': 'proof',\n",
    "    'mkt': 'en-us'\n",
    "})\n",
    "\n",
    "try:\n",
    "    conn = httplib.HTTPSConnection('api.cognitive.microsoft.com')\n",
    "    conn.request(\"GET\", \"/bing/v5.0/spellcheck/?%s\" % params, \"{body}\", headers)\n",
    "    response = conn.getresponse()\n",
    "    data = response.read()\n",
    "    print(data)\n",
    "    conn.close()\n",
    "    print input\n",
    "except Exception as e:\n",
    "    print(\"[Errno {0}] {1}\".format(e.errno, e.strerror))\n",
    "new_data = []\n",
    "try:\n",
    "    decoded = json.loads(data)\n",
    " \n",
    "    # Access data\n",
    "    for x in decoded['flaggedTokens']:\n",
    "        print x['suggestions']\n",
    "        new_data.append(x['suggestions'])\n",
    "        print x['suggestions'][0]['suggestion']\n",
    " \n",
    "except (ValueError, KeyError, TypeError):\n",
    "    print \"JSON format error\"\n",
    "    "
   ]
  },
  {
   "cell_type": "code",
   "execution_count": 22,
   "metadata": {
    "collapsed": false
   },
   "outputs": [
    {
     "name": "stdout",
     "output_type": "stream",
     "text": [
      "Brian\n",
      "David\n"
     ]
    }
   ],
   "source": [
    "import json\n",
    " \n",
    "json_input = '{\"persons\": [{\"name\": \"Brian\", \"city\": \"Seattle\"}, {\"name\": \"David\", \"city\": \"Amsterdam\"} ] }'\n",
    " \n",
    "try:\n",
    "    decoded = json.loads(json_input)\n",
    " \n",
    "    # Access data\n",
    "    for x in decoded['persons']:\n",
    "        print x['name']\n",
    " \n",
    "except (ValueError, KeyError, TypeError):\n",
    "    print \"JSON format error\""
   ]
  },
  {
   "cell_type": "code",
   "execution_count": null,
   "metadata": {
    "collapsed": true
   },
   "outputs": [],
   "source": []
  }
 ],
 "metadata": {
  "anaconda-cloud": {},
  "kernelspec": {
   "display_name": "Python [Root]",
   "language": "python",
   "name": "Python [Root]"
  },
  "language_info": {
   "codemirror_mode": {
    "name": "ipython",
    "version": 2
   },
   "file_extension": ".py",
   "mimetype": "text/x-python",
   "name": "python",
   "nbconvert_exporter": "python",
   "pygments_lexer": "ipython2",
   "version": "2.7.12"
  }
 },
 "nbformat": 4,
 "nbformat_minor": 0
}
