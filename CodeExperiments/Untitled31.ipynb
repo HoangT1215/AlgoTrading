{
 "cells": [
  {
   "cell_type": "code",
   "execution_count": 36,
   "metadata": {
    "collapsed": false
   },
   "outputs": [
    {
     "name": "stdout",
     "output_type": "stream",
     "text": [
      "website URL: http://www.livetradingnews.com/heffx-gold-report-23852.html#.WFoyfRsrJEZ\n",
      "Overall, the bias in prices is: Downwards.\n",
      "\n",
      "Note: this chart shows extraordinary price action to the downside.\n",
      "\n",
      "By the way, prices are vulnerable to a correction towards 1,208.99.\n",
      "\n",
      "A white body occurred (because prices closed higher than they opened).\n",
      "\n",
      " During the past 10 bars, there have been 4 white candles and 6 black candles for a net of 2 black candles. During the past 50 bars, there have been 22 white candles and 28 black candles for a net of 6 black candles.\n",
      "\n",
      "Momentum Indicators\n",
      "\n",
      " Momentum is a general term used to describe the speed at which prices move over a given time period. Generally, changes in momentum tend to lead to changes in prices. This expert shows the current values of four popular momentum indicators.\n",
      "\n",
      "One method of interpreting the Stochastic Oscillator is looking for overbought areas (above 80) and oversold areas (below 20). The Stochastic Oscillator is 25.0184. This is not an overbought or oversold reading. The last signal was a buy 0 period(s) ago.\n",
      "\n",
      "The RSI shows overbought (above 70) and oversold (below 30) areas. The current value of the RSI is 27.80. This is where it usually bottoms. The RSI usually forms tops and bottoms before the underlying security. A buy or sell signal is generated when the RSI moves out of an overbought/oversold area. The last signal was a buy 15 period(s) ago.\n",
      "\n",
      "The CCI shows overbought (above 100) and oversold (below -100) areas. The current value of the CCI is -120.This is an oversold reading. However, a signal isn’t generated until the indicator crosses above -100. The last signal was a buy 11 period(s) ago.\n",
      "\n",
      "The Moving Average Convergence/Divergence indicator (MACD) gives signals when it crosses its 9 period signal line. The last signal was a sell 2 period(s) ago.\n",
      "\n",
      "PREC.M.XAU= closed up 4.700 at 1,138.690. Volume was 8,900% above average (trending) and Bollinger Bands were 2% wider than normal.\n",
      "\n",
      "Short-term traders should pay closer attention to buy/sell arrows while intermediate/long-term traders should place greater emphasis on the Bullish or Bearish trend reflected in the lower ribbon.\n",
      "\n",
      "Summary\n",
      "\n",
      " PREC.M.XAU= is currently 10.6% below its 200-period moving average and is in an downward trend. Volatility is relatively normal as compared to the average volatility over the last 10 periods. Our volume indicators reflect very strong flows of volume into XAU= (bullish). Our trend forecasting oscillators are currently bearish on XAU= and have had this outlook for the last 26 periods. Our momentum oscillator is currently indicating that XAU= is currently in an oversold condition.\n",
      "{'move': 1, 'correction': 1, 'Downwards.': 1, 'downward': 1, 'upward': 0}\n"
     ]
    }
   ],
   "source": [
    "import urllib\n",
    "from bs4 import BeautifulSoup\n",
    "from goose import Goose\n",
    "from requests import get\n",
    "from collections import Counter\n",
    "keywords = [\"Downwards.\", \"correction\", \"move\", \"downward\", \"upward\"]\n",
    "frequency = [0,0,0,0,0]\n",
    "text1 = {}\n",
    "url = raw_input(\"website URL: \")\n",
    "if url.find(\"zerohedge.com\") == -1:\n",
    "    response = get(url)\n",
    "    extractor = Goose()\n",
    "    article = extractor.extract(raw_html=response.content)\n",
    "    text = article.cleaned_text\n",
    "    print text\n",
    "else: \n",
    "    html = urllib.urlopen(url).read()\n",
    "    soup = BeautifulSoup(html)\n",
    "\n",
    "# kill all script and style elements\n",
    "    for script in soup([\"script\", \"style\"]):\n",
    "        script.extract()    # rip it out\n",
    "\n",
    "# get text\n",
    "    text = soup.get_text()\n",
    "\n",
    "# break into lines and remove leading and trailing space on each\n",
    "    lines = (line.strip() for line in text.splitlines())\n",
    "# break multi-headlines into a line each\n",
    "    chunks = (phrase.strip() for line in lines for phrase in line.split(\"  \"))\n",
    "# drop blank lines\n",
    "    text = '\\n'.join(chunk for chunk in chunks if chunk)\n",
    "    begin = text.find(\"SHARES\") + 9\n",
    "    end = text.find(\"Comment viewing options\")\n",
    "    text = (text.encode('utf-8'))[begin:end]\n",
    "text.count(\"XAU\")\n",
    "text = text.split()\n",
    "for i in range(len(keywords)):\n",
    "    if keywords[i] in text:\n",
    "        frequency[i] = text.count(keywords[i])\n",
    "for i in range(len(keywords)):\n",
    "    text1[keywords[i]] = frequency [i]\n",
    "print text1\n",
    "    "
   ]
  },
  {
   "cell_type": "code",
   "execution_count": null,
   "metadata": {
    "collapsed": false
   },
   "outputs": [],
   "source": [
    "for i in len(text):\n",
    "    if text[i] in keyword:\n",
    "        text1.append(text[i])\n",
    "    i += 1\n",
    "Counter(text1)"
   ]
  },
  {
   "cell_type": "code",
   "execution_count": null,
   "metadata": {
    "collapsed": false
   },
   "outputs": [],
   "source": []
  },
  {
   "cell_type": "code",
   "execution_count": null,
   "metadata": {
    "collapsed": false
   },
   "outputs": [],
   "source": [
    "\n"
   ]
  },
  {
   "cell_type": "code",
   "execution_count": null,
   "metadata": {
    "collapsed": false
   },
   "outputs": [],
   "source": [
    "from goose import Goose\n",
    "from requests import get\n",
    "url = 'http://www.zerohedge.com'\n"
   ]
  },
  {
   "cell_type": "code",
   "execution_count": null,
   "metadata": {
    "collapsed": true
   },
   "outputs": [],
   "source": []
  }
 ],
 "metadata": {
  "anaconda-cloud": {},
  "kernelspec": {
   "display_name": "Python [Root]",
   "language": "python",
   "name": "Python [Root]"
  },
  "language_info": {
   "codemirror_mode": {
    "name": "ipython",
    "version": 2
   },
   "file_extension": ".py",
   "mimetype": "text/x-python",
   "name": "python",
   "nbconvert_exporter": "python",
   "pygments_lexer": "ipython2",
   "version": "2.7.12"
  }
 },
 "nbformat": 4,
 "nbformat_minor": 0
}
