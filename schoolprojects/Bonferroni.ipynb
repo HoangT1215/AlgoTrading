{
 "cells": [
  {
   "cell_type": "markdown",
   "metadata": {},
   "source": []
  },
  {
   "cell_type": "code",
   "execution_count": 49,
   "metadata": {
    "collapsed": false
   },
   "outputs": [
    {
     "name": "stdout",
     "output_type": "stream",
     "text": [
      "0.097\n"
     ]
    }
   ],
   "source": [
    "from scipy import stats\n",
    "import numpy as np\n",
    "import random\n",
    "\n",
    "def create_norm_pop(n): #creates a random normal population distribution\n",
    "    distrib = 1000 * np.random.normal(0,1,(n, )) # o: mean; 1: SD \n",
    "    return distrib\n",
    "\n",
    "def test_hypothesis(population, sample_size):\n",
    "    \n",
    "    pop_mean = np.mean(population)\n",
    "    pop_std = np.std(population)\n",
    "    sample = np.random.choice(population,(sample_size, ))\n",
    "    sample_std = np.std(sample)\n",
    "    sample_mean = np.mean(sample)\n",
    "        \n",
    "    mean_dif = pop_mean - sample_mean\n",
    "       \n",
    "    SE = ((pop_std**2/len(population)) + (sample_std**2/sample_size))**0.5 #finding standard error\n",
    "    \n",
    "    #z-score = 1.96 for 95% percentile, thus level of significance (alpha) is 5% for each hypothesis test\n",
    "    \n",
    "    lower_bound = 0 - 1.96*SE\n",
    "    upper_bound = 0 + 1.96*SE\n",
    "    \n",
    "    return mean_dif >= lower_bound and mean_dif <= upper_bound #the test return true if the mean dif is in the interval \n",
    "\n",
    "pop1 = create_norm_pop(100000)\n",
    "pop2 = create_norm_pop(100000)\n",
    "sample_size = 1000\n",
    "sample_repeats = 1000\n",
    "error_count = 0.0\n",
    "\n",
    "for i in range (sample_repeats): #check both hypothesis at the same time\n",
    "    if not test_hypothesis(pop1, sample_size) or not test_hypothesis(pop2, sample_size): #test type 1 error\n",
    "        error_count = error_count + 1\n",
    "            \n",
    "print error_count/sample_repeats"
   ]
  },
  {
   "cell_type": "code",
   "execution_count": null,
   "metadata": {
    "collapsed": true
   },
   "outputs": [],
   "source": []
  }
 ],
 "metadata": {
  "kernelspec": {
   "display_name": "Python [Root]",
   "language": "python",
   "name": "Python [Root]"
  },
  "language_info": {
   "codemirror_mode": {
    "name": "ipython",
    "version": 2
   },
   "file_extension": ".py",
   "mimetype": "text/x-python",
   "name": "python",
   "nbconvert_exporter": "python",
   "pygments_lexer": "ipython2",
   "version": "2.7.12"
  }
 },
 "nbformat": 4,
 "nbformat_minor": 0
}
